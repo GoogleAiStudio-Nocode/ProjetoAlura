{
  "cells": [
    {
      "cell_type": "markdown",
      "metadata": {
        "id": "view-in-github",
        "colab_type": "text"
      },
      "source": [
        "<a href=\"https://colab.research.google.com/github/GoogleAiStudio-Nocode/ProjetoAlura/blob/main/DebateLulaBolsonaro.ipynb\" target=\"_parent\"><img src=\"https://colab.research.google.com/assets/colab-badge.svg\" alt=\"Open In Colab\"/></a>"
      ]
    },
    {
      "cell_type": "code",
      "source": [
        "#\n",
        "# instalando o generative AI\n",
        "#\n",
        "!pip install -q google-generativeai"
      ],
      "metadata": {
        "id": "zYqYyTAwTtWT"
      },
      "execution_count": 9,
      "outputs": []
    },
    {
      "cell_type": "code",
      "execution_count": 8,
      "metadata": {
        "id": "m6E5zCchSsI4"
      },
      "outputs": [],
      "source": [
        "#\n",
        "# importando as bibliotecas\n",
        "#\n",
        "import google.generativeai as genai\n",
        "import random\n",
        "import time\n",
        "import textwrap\n",
        "from IPython.display import HTML, Image, display\n",
        "from tabulate import tabulate\n",
        "import pandas as pd\n",
        "from google.colab import drive\n",
        "import os\n",
        "\n",
        "# Verificar se o Google Drive já está montado\n",
        "if not os.path.exists('/content/drive/My Drive'):\n",
        "    from google.colab import drive\n",
        "    # Montar o Google Drive\n",
        "    drive.mount('/content/drive')\n",
        "\n",
        "#\n",
        "# escondendo a api_key\n",
        "#\n",
        "from google.colab import userdata\n",
        "api_key = userdata.get(\"SECRET_KEY\")\n",
        "genai.configure(api_key=api_key)"
      ]
    },
    {
      "cell_type": "code",
      "execution_count": 2,
      "metadata": {
        "id": "dX5N17h9Vb4O"
      },
      "outputs": [],
      "source": [
        "#\n",
        "# setando a temperatura e escolhendo o modelo\n",
        "#\n",
        "generation_config = {\n",
        "  \"temperature\": 1,\n",
        "  \"top_p\": 0.95,\n",
        "  \"top_k\": 0,\n",
        "  \"max_output_tokens\": 20000,\n",
        "}\n",
        "\n",
        "safety_settings = [\n",
        "  {\n",
        "    \"category\": \"HARM_CATEGORY_HARASSMENT\",\n",
        "    \"threshold\": \"BLOCK_NONE\"\n",
        "  },\n",
        "  {\n",
        "    \"category\": \"HARM_CATEGORY_HATE_SPEECH\",\n",
        "    \"threshold\": \"BLOCK_NONE\"\n",
        "  },\n",
        "  {\n",
        "    \"category\": \"HARM_CATEGORY_SEXUALLY_EXPLICIT\",\n",
        "    \"threshold\": \"BLOCK_NONE\"\n",
        "  },\n",
        "  {\n",
        "    \"category\": \"HARM_CATEGORY_DANGEROUS_CONTENT\",\n",
        "    \"threshold\": \"BLOCK_NONE\"\n",
        "  },\n",
        "]\n",
        "\n",
        "model = genai.GenerativeModel(model_name=\"gemini-1.0-pro-latest\",\n",
        "                              generation_config=generation_config,\n",
        "                              safety_settings=safety_settings)"
      ]
    },
    {
      "cell_type": "code",
      "source": [
        "#\n",
        "# Iniciando o chat e iniciando variáveis\n",
        "#\n",
        "from IPython.display import HTML, Image\n",
        "nome_candidato=\"\"\n",
        "numero_aleatorio = random.randint(0, 1)\n",
        "largura_maxima = 50\n",
        "nome_candidato = \"\"\n",
        "prompt = \"   \"\n",
        "intro = \"\\033[1m# Debate do século:\\033[0m Lula versus Bolsonaro ! Participe. A ideia é promover um debate saudável entre o Sr. Luis Inácio da Silva, Lula e o Sr. Bolsonaro. O Usuário poderá fazer a pergunta e os dois políticos irão responder baseando-se na sua visão política e no seu projeto de governo. A pergunta será sorteada entre os candidatos. Quem vencerá?\\n\"\n",
        "caminho_banner = '/content/drive/MyDrive/Colab Notebooks/images/Banner_debate1.jpg'\n",
        "url_imagem_online = 'https://photos1.blogger.com/blogger/261/2301/320/3-0-2006_019-06-23_Lula%20sorrindo.1.jpg'\n",
        "url_imagem_online_replica = 'https://media.gettr.com/group8/origin/2021/07/04/20/60fad009-4164-9617-777e-7dfcceb6168e/d6ed73a12ea229aebf51d494ae6d4e53_500x0.png'\n",
        "html_imagem = f'<img src=\"{url_imagem_online}\" alt=\"Imagem\" style=\"width:180px;\">'\n",
        "html_imagem_replica = f'<img src=\"{url_imagem_online_replica}\" alt=\"Imagem\" style=\"width:180px;\">'\n",
        "\n",
        "def escolher_politico():\n",
        "  global nome_candidato, url_imagem_online, url_imagem_online_replica\n",
        "\n",
        "  if numero_aleatorio == 1:\n",
        "    nome_candidato = \"Lula \"\n",
        "    url_imagem_online = 'https://photos1.blogger.com/blogger/261/2301/320/3-0-2006_019-06-23_Lula%20sorrindo.1.jpg'\n",
        "    url_imagem_online_replica = 'https://media.gettr.com/group8/origin/2021/07/04/20/60fad009-4164-9617-777e-7dfcceb6168e/d6ed73a12ea229aebf51d494ae6d4e53_500x0.png'\n",
        "  else:\n",
        "    nome_candidato = \"Bolsonaro \"\n",
        "    url_imagem_online = 'https://media.gettr.com/group8/origin/2021/07/04/20/60fad009-4164-9617-777e-7dfcceb6168e/d6ed73a12ea229aebf51d494ae6d4e53_500x0.png'\n",
        "    url_imagem_online_replica = 'https://photos1.blogger.com/blogger/261/2301/320/3-0-2006_019-06-23_Lula%20sorrindo.1.jpg'\n",
        "\n",
        "  if numero_aleatorio == 1:\n",
        "    return \"\\033[1mO candidato escolhido randomicamente para responder foi o Sr. Luis inácio lula da Silva\\033[0m\"\n",
        "  else:\n",
        "    return \"\\033[1mO candidato escolhido randomicamente para responder foi o Sr. Bolsonaro\\033[0m\"\n",
        "\n",
        "#\n",
        "# Banner e título do debate\n",
        "# Exibir a imagem\n",
        "# display(HTML(f'<img src=\"{caminho_imagem}\" alt=\"Imagem\" width=\"800\">'))\n",
        "\n",
        "print(textwrap.fill(intro, 100))\n",
        "\n",
        "# Inicia o debate\n",
        "chat = model.start_chat(history=[])\n",
        "while prompt != \"chega\":\n",
        "    prompt = input(\"\\n\\nFaça sua pergunta para os candidatos: \")\n",
        "    numero_aleatorio = random.randint(0, 1)\n",
        "    quem_responde = escolher_politico()\n",
        "    prompt = \"Imagine que você está em um debate presidencial entre o Luis Inacio da Silva e o Bolsonaro.\" + quem_responde + \"Voce deve reponder conforme a visão política do candidato, usar seu linguajar e seus cacoetes de linguagem. Não use hashtags, aspas e responda em um único parágrafo com no máximo 8 linhas. A pergunta a ser respondida é: \" + prompt\n",
        "    replica = \"Agora o outro candidato deve fazer a réplica da resposta anterior e deve ser MUITO sarcástico e IRREVERENTE. A resposta deve ter no MÁXIMO 1 parágrafo com no máximo 5 linhas e sem aspas e sem quebra de linhas.\"\n",
        "    response = chat.send_message(prompt)\n",
        "    print(\"\\n\", escolher_politico())\n",
        "\n",
        "    # Gera a tabela com a imagem e a resposta\n",
        "    texto_celula2 = response.text\n",
        "    html_imagem = f'<img src=\"{url_imagem_online}\" alt=\"Imagem\" style=\"width:180px;\">'\n",
        "    tabela_html = f\"<table cellspacing='10' bgcolor='E9E9E9'><tr><td style='width:150px'>{html_imagem}</td><td style='width:400px'>{texto_celula2}</td></tr></table>\"\n",
        "    display(HTML(tabela_html))\n",
        "\n",
        "    # Gera a réplica\n",
        "    time.sleep(3)\n",
        "    print(\"\\n\", \"\\033[1me a réplica do outro candidato\\033[0m\")\n",
        "\n",
        "    # Gera tabela com a réplica e a imagem correspondente\n",
        "    response = chat.send_message(replica)\n",
        "    texto_celula2 = response.text\n",
        "    html_imagem = f'<img src=\"{url_imagem_online_replica}\" alt=\"Imagem\" style=\"width:180px;\">'\n",
        "    tabela_html = f\"<table cellspacing='10'bgcolor='BFBFBF'><tr><td style='width:400px'>{texto_celula2}<td style='width:150px'>{html_imagem}</td></td></tr></table>\"\n",
        "    display(HTML(tabela_html))\n",
        "\n"
      ],
      "metadata": {
        "id": "YY7yAD3EJtnx"
      },
      "execution_count": null,
      "outputs": []
    }
  ],
  "metadata": {
    "colab": {
      "provenance": [],
      "mount_file_id": "1eEObJ_3Ya9ELdAC2yftKDGFSOATFN0la",
      "authorship_tag": "ABX9TyPEuizwRSh/PfVjTjKFhdKS",
      "include_colab_link": true
    },
    "kernelspec": {
      "display_name": "Python 3",
      "name": "python3"
    },
    "language_info": {
      "name": "python"
    }
  },
  "nbformat": 4,
  "nbformat_minor": 0
}